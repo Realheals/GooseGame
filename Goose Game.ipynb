{
 "cells": [
  {
   "cell_type": "code",
   "execution_count": 133,
   "metadata": {},
   "outputs": [],
   "source": [
    "import numpy as np\n",
    "import json\n",
    "import random"
   ]
  },
  {
   "cell_type": "code",
   "execution_count": 372,
   "metadata": {},
   "outputs": [],
   "source": [
    "from enum import Enum\n",
    "\n",
    "\n",
    "class Direction(Enum):\n",
    "    ''' This class represents a direction a Goose can go'''\n",
    "    UP = 1\n",
    "    RIGHT = 2\n",
    "    DOWN = 3\n",
    "    LEFT = 4\n",
    "\n",
    "class Goose:\n",
    "    \n",
    "    def __init__(self, xpos, ypos):\n",
    "        \n",
    "        self.length = 1\n",
    "        self.occupied = []\n",
    "        self.xpos = xpos\n",
    "        self.ypos = ypos\n",
    "        \n",
    "    def __repr__(self):\n",
    "        return f\"Goose[{self.xpos},{self.ypos}]\"\n",
    "        \n",
    "    \n",
    "    def makeDecision(self, givenInfo):\n",
    "        # This will likely use machine learning to make a choice\n",
    "        # givenInfo may be JSON data from the board\n",
    "        # currently just going to randomly generate LEFT,RIGHT,UP,DOWN\n",
    "        \n",
    "        options = [Direction.UP,Direction.RIGHT,Direction.DOWN,Direction.LEFT]\n",
    "        \n",
    "        return options[random.randrange(4)]\n",
    "    \n",
    "    def move(self, direction):\n",
    "        self.ypos -= 1"
   ]
  },
  {
   "cell_type": "code",
   "execution_count": 376,
   "metadata": {},
   "outputs": [],
   "source": [
    "class Board:\n",
    "    \n",
    "    height = 11\n",
    "    width = 7\n",
    "    \n",
    "    def __init__(self):\n",
    "        \n",
    "        self.board = np.zeros((height,width)) \n",
    "        self.currentFood = []\n",
    "        self.currentPlayers = []\n",
    "        #self.currentFood += [self.addFood()] # Initalising the first food\n",
    "        #self.currentFood += [self.addFood()]\n",
    "        \n",
    "    def addFood(self):\n",
    "        \n",
    "        x = random.randrange(height)\n",
    "        y = random.randrange(width)\n",
    "        \n",
    "        while [x,y] in self.currentFood:\n",
    "            x = random.randrange(height)\n",
    "            y = random.randrange(width)\n",
    "        self.board[x][y] = 1\n",
    "        return [x,y]\n",
    "    \n",
    "    def addPlayer(self, player):\n",
    "        self.currentPlayers += [player]\n",
    "    \n",
    "    def getBoard(self):\n",
    "        \n",
    "        return(self.board)\n",
    "    \n",
    "    def applyTurn(self):\n",
    "        \n",
    "        for player in currentPlayers:\n",
    "            decision = player.makeDecision(1)\n",
    "            \n",
    "            if decision is Direction.UP:\n",
    "                "
   ]
  },
  {
   "cell_type": "code",
   "execution_count": 374,
   "metadata": {},
   "outputs": [],
   "source": [
    "class Game:\n",
    "    \n",
    "    def __init__(self):\n",
    "        \n",
    "        self.gameboard = Board()\n",
    "        self.gameboard.addPlayer(Goose(1,1))"
   ]
  },
  {
   "cell_type": "code",
   "execution_count": 375,
   "metadata": {},
   "outputs": [
    {
     "data": {
      "text/plain": [
       "[Goose[1,1]]"
      ]
     },
     "execution_count": 375,
     "metadata": {},
     "output_type": "execute_result"
    }
   ],
   "source": [
    "test = Game()\n",
    "test.\n",
    "test.gameboard.currentPlayers\n"
   ]
  }
 ],
 "metadata": {
  "kernelspec": {
   "display_name": "Python 3",
   "language": "python",
   "name": "python3"
  },
  "language_info": {
   "codemirror_mode": {
    "name": "ipython",
    "version": 3
   },
   "file_extension": ".py",
   "mimetype": "text/x-python",
   "name": "python",
   "nbconvert_exporter": "python",
   "pygments_lexer": "ipython3",
   "version": "3.7.4"
  }
 },
 "nbformat": 4,
 "nbformat_minor": 2
}
